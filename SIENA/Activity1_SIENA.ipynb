{
 "cells": [
  {
   "cell_type": "markdown",
   "id": "3f16874b-6c20-4535-82b2-0b3c58e2b038",
   "metadata": {},
   "source": [
    "<h1>Installing Dependencies</h1>"
   ]
  },
  {
   "cell_type": "code",
   "execution_count": null,
   "id": "7744dbb2-7b57-4fb0-afc5-43731e7df979",
   "metadata": {},
   "outputs": [],
   "source": [
    "pip install numpy"
   ]
  },
  {
   "cell_type": "code",
   "execution_count": null,
   "id": "ad39b2ca-6acc-4705-98b6-0ead61d74940",
   "metadata": {},
   "outputs": [],
   "source": [
    "pip install matplotlib"
   ]
  },
  {
   "cell_type": "code",
   "execution_count": null,
   "id": "0f30ebf2-2acd-4ce5-80c5-fa562be5893d",
   "metadata": {},
   "outputs": [],
   "source": [
    "pip install seaborn"
   ]
  },
  {
   "cell_type": "code",
   "execution_count": null,
   "id": "0a65a050-4500-42ff-85ef-4b43e0830e49",
   "metadata": {},
   "outputs": [],
   "source": [
    "pip install pandas"
   ]
  },
  {
   "cell_type": "markdown",
   "id": "7880a645-e4c5-4169-8808-c9ab76b90d6f",
   "metadata": {},
   "source": [
    "<h1>Importing Libraries</h1>"
   ]
  },
  {
   "cell_type": "code",
   "execution_count": null,
   "id": "b9d9e8b1-0024-4660-ba69-1797e6958a39",
   "metadata": {},
   "outputs": [],
   "source": [
    "import numpy as np\n",
    "import matplotlib.pyplot as plt\n",
    "import seaborn as sns\n",
    "import pandas as pd"
   ]
  },
  {
   "cell_type": "markdown",
   "id": "f7b7231f-f4c3-486d-afa5-ae5d8ca56a9c",
   "metadata": {},
   "source": [
    "<h1>Creating DataFrame</h1>"
   ]
  },
  {
   "cell_type": "code",
   "execution_count": null,
   "id": "6e037bcd-b30d-4e4a-a074-b03bbf24ac71",
   "metadata": {},
   "outputs": [],
   "source": [
    "birds = pd.read_csv(\"penguins.csv\")"
   ]
  },
  {
   "cell_type": "markdown",
   "id": "7d1eef1d-49e6-4df4-9cc0-257b2a440c5a",
   "metadata": {},
   "source": [
    "<h1>Calling DataFrame</h1>"
   ]
  },
  {
   "cell_type": "code",
   "execution_count": null,
   "id": "a9f50482-ae18-48af-9c57-a8046dba1b84",
   "metadata": {},
   "outputs": [],
   "source": [
    "birds"
   ]
  },
  {
   "cell_type": "markdown",
   "id": "48375c64-eac1-4995-b78b-4844fba7cb8a",
   "metadata": {},
   "source": [
    "<h1>Checking Information</h1>"
   ]
  },
  {
   "cell_type": "code",
   "execution_count": null,
   "id": "735a75b9-0a2a-4c9d-a896-b68da738e8f1",
   "metadata": {},
   "outputs": [],
   "source": [
    "birds.info()"
   ]
  },
  {
   "cell_type": "markdown",
   "id": "ca83e00c-d817-43cc-a723-a0f87ae9742e",
   "metadata": {},
   "source": [
    "<h1>Describe the Data</h1>"
   ]
  },
  {
   "cell_type": "code",
   "execution_count": null,
   "id": "52b7f273-0014-49af-baf7-afcd4f2b3c2f",
   "metadata": {},
   "outputs": [],
   "source": [
    "birds.describe()"
   ]
  },
  {
   "cell_type": "code",
   "execution_count": null,
   "id": "658f469c-61f2-4bda-8ac2-2598fa0f77b9",
   "metadata": {},
   "outputs": [],
   "source": [
    "birds.describe().T"
   ]
  },
  {
   "cell_type": "markdown",
   "id": "6fcc741a-9c82-4f78-b244-74ecba5d20bc",
   "metadata": {},
   "source": [
    "<h1>Checking Null Values</h1>"
   ]
  },
  {
   "cell_type": "code",
   "execution_count": null,
   "id": "c4638215-5c56-4191-91eb-60e8d405e063",
   "metadata": {},
   "outputs": [],
   "source": [
    "birds.isnull()"
   ]
  },
  {
   "cell_type": "markdown",
   "id": "8ddddb2d-07f6-4e5e-97bf-de95840d2809",
   "metadata": {},
   "source": [
    "<h1>Checking the total sum of Null Values</h1>"
   ]
  },
  {
   "cell_type": "code",
   "execution_count": null,
   "id": "db33b3db-13c2-4840-9004-36dad0efcbb9",
   "metadata": {},
   "outputs": [],
   "source": [
    "birds.isnull().sum()"
   ]
  },
  {
   "cell_type": "code",
   "execution_count": null,
   "id": "9f3ec01e-6df1-4192-a490-b717f3e26d44",
   "metadata": {},
   "outputs": [],
   "source": [
    "birds['bill_length_mm'].mean()"
   ]
  },
  {
   "cell_type": "markdown",
   "id": "a64bed9e-cc03-416f-9e0c-c71a9c66333c",
   "metadata": {},
   "source": [
    "<h1>Converting the Null Values</h1>"
   ]
  },
  {
   "cell_type": "code",
   "execution_count": null,
   "id": "b01ee344-e498-48e4-8709-1defc759c07b",
   "metadata": {},
   "outputs": [],
   "source": [
    "birds['bill_length_mm'] = birds['bill_length_mm'].fillna(birds['bill_length_mm'].mean())"
   ]
  },
  {
   "cell_type": "code",
   "execution_count": null,
   "id": "5b2028b5-2cca-4fc1-8b3b-57bc06ade4fc",
   "metadata": {},
   "outputs": [],
   "source": [
    "birds['bill_depth_mm'] = birds['bill_depth_mm'].fillna(birds['bill_depth_mm'].mean())"
   ]
  },
  {
   "cell_type": "code",
   "execution_count": null,
   "id": "4f16feab-59d0-42ef-855e-eeade1086ea3",
   "metadata": {},
   "outputs": [],
   "source": [
    "birds['flipper_length_mm'] = birds['flipper_length_mm'].fillna(birds['flipper_length_mm'].mean())"
   ]
  },
  {
   "cell_type": "code",
   "execution_count": null,
   "id": "12248163-d250-4ea3-b787-ea3ebabcd927",
   "metadata": {},
   "outputs": [],
   "source": [
    "birds['body_mass_g'] = birds['body_mass_g'].fillna(birds['body_mass_g'].mean())"
   ]
  },
  {
   "cell_type": "code",
   "execution_count": null,
   "id": "bab004e5-9327-4d1f-acbe-f23c7fc1a0bb",
   "metadata": {},
   "outputs": [],
   "source": [
    "birds['sex'] = birds['sex'].fillna(birds['sex'].mode()[0])"
   ]
  },
  {
   "cell_type": "code",
   "execution_count": null,
   "id": "5d52ba5e-f125-4655-bfed-32a86072d412",
   "metadata": {},
   "outputs": [],
   "source": [
    "birds.isnull().sum()"
   ]
  },
  {
   "cell_type": "markdown",
   "id": "eea81a04-bfdc-4c7f-bd2a-2a1745d9e449",
   "metadata": {},
   "source": [
    "<h1>Changing Datatype</h1>"
   ]
  },
  {
   "cell_type": "code",
   "execution_count": null,
   "id": "7a1face2-57c3-49d7-a293-22e00b2c9c7b",
   "metadata": {},
   "outputs": [],
   "source": [
    "birds['species'] = birds['species'].astype('category')\n",
    "birds['sex'] = birds['sex'].astype('category')\n",
    "birds['island'] = birds['island'].astype('category')"
   ]
  },
  {
   "cell_type": "code",
   "execution_count": null,
   "id": "60e7257c-cd13-468f-b013-7d6d7d873dd8",
   "metadata": {},
   "outputs": [],
   "source": [
    "birds.info()"
   ]
  },
  {
   "cell_type": "markdown",
   "id": "84f82ec9-0b97-4f62-bed3-5c8c4898c161",
   "metadata": {},
   "source": [
    "<h1>Does Gentoo lives in island Dream</h1>"
   ]
  },
  {
   "cell_type": "code",
   "execution_count": null,
   "id": "1a069d2a-6191-46d1-98e1-dc9b47685ac1",
   "metadata": {},
   "outputs": [],
   "source": [
    "birds['island']"
   ]
  },
  {
   "cell_type": "code",
   "execution_count": null,
   "id": "3c9125fd-301a-4c97-8adc-bb8801725939",
   "metadata": {},
   "outputs": [],
   "source": [
    "gentoo_dream = birds[(birds['species'] == 'Gentoo') & (birds['island'] == \"Dream\")]"
   ]
  },
  {
   "cell_type": "code",
   "execution_count": null,
   "id": "ff5d2eab-230d-4b04-9fbd-04ed70dabcc0",
   "metadata": {},
   "outputs": [],
   "source": [
    "gentoo_dream"
   ]
  },
  {
   "cell_type": "markdown",
   "id": "b8a924ef-762c-4059-bd27-0b3ed7c5c493",
   "metadata": {},
   "source": [
    "<h1>Does Gentoo lives on island Biscoe</h1>"
   ]
  },
  {
   "cell_type": "code",
   "execution_count": null,
   "id": "5e3d9d20-9f8c-4359-b622-47d3edc05cdd",
   "metadata": {},
   "outputs": [],
   "source": [
    "gentoo_biscoe = birds[(birds['species'] == 'Gentoo') & (birds['island'] == \"Biscoe\")]"
   ]
  },
  {
   "cell_type": "code",
   "execution_count": null,
   "id": "ec48cf31-7656-4607-bec7-42800ce0d838",
   "metadata": {},
   "outputs": [],
   "source": [
    "gentoo_biscoe"
   ]
  },
  {
   "cell_type": "markdown",
   "id": "efe31c67-4f17-474d-9b43-fe41fe18987c",
   "metadata": {},
   "source": [
    "<h1>Does Gentoo lives in island Torgersen</h1>"
   ]
  },
  {
   "cell_type": "code",
   "execution_count": null,
   "id": "a74be68b-5879-471a-9d36-b5db1f4d254d",
   "metadata": {},
   "outputs": [],
   "source": [
    "gentoo_torgersen = birds[(birds['species'] == 'Gentoo') & (birds['island'] == \"Torgersen\")]"
   ]
  },
  {
   "cell_type": "code",
   "execution_count": null,
   "id": "b18703ea-1141-407b-babb-7982494601aa",
   "metadata": {},
   "outputs": [],
   "source": [
    "gentoo_torgersen"
   ]
  },
  {
   "cell_type": "markdown",
   "id": "a609ab37-90d3-4909-a82b-e05f8fc57370",
   "metadata": {},
   "source": [
    "<h1> It seems that Gentoo only lives in Biscoe</h1>"
   ]
  },
  {
   "cell_type": "markdown",
   "id": "04b6bfea-a660-4a6f-a7cf-1424f7005094",
   "metadata": {},
   "source": [
    "<h1>Does Adelie lives on island Torgersen</h1>"
   ]
  },
  {
   "cell_type": "code",
   "execution_count": null,
   "id": "362c6430-9a41-4d91-8517-5989eef3ea9f",
   "metadata": {},
   "outputs": [],
   "source": [
    "birds['species']"
   ]
  },
  {
   "cell_type": "code",
   "execution_count": null,
   "id": "84cd8eb6-f50c-44c3-b494-9530e6bfaede",
   "metadata": {},
   "outputs": [],
   "source": [
    "adelie_torgersen = birds[(birds['species'] == 'Adelie') & (birds['island'] == \"Torgersen\")]"
   ]
  },
  {
   "cell_type": "code",
   "execution_count": null,
   "id": "16fce359-a2ef-4aa9-80af-7ebf47aa8ad5",
   "metadata": {},
   "outputs": [],
   "source": [
    "adelie_torgersen"
   ]
  },
  {
   "cell_type": "markdown",
   "id": "aa797935-041b-4684-8c5d-523e3a38acdb",
   "metadata": {},
   "source": [
    "<h1>Does Adelie lives on island Dream</h1>"
   ]
  },
  {
   "cell_type": "code",
   "execution_count": null,
   "id": "036eea46-1297-4d2c-95f9-4e3147db8805",
   "metadata": {},
   "outputs": [],
   "source": [
    "adelie_dream = birds[(birds['species'] == 'Adelie') & (birds['island'] == \"Dream\")]"
   ]
  },
  {
   "cell_type": "code",
   "execution_count": null,
   "id": "08968157-2239-41a6-9e34-235e7163c9da",
   "metadata": {},
   "outputs": [],
   "source": [
    "adelie_dream"
   ]
  },
  {
   "cell_type": "markdown",
   "id": "a22f7fe5-8238-4bda-89cb-280d340e842e",
   "metadata": {},
   "source": [
    "<h1>Does Adelie lives on island Biscoe</h1>"
   ]
  },
  {
   "cell_type": "code",
   "execution_count": null,
   "id": "2c5c96e2-ac9f-490e-adf2-c3157ac041b0",
   "metadata": {},
   "outputs": [],
   "source": [
    "adelie_biscoe = birds[(birds['species'] == 'Adelie') & (birds['island'] == \"Biscoe\")]"
   ]
  },
  {
   "cell_type": "code",
   "execution_count": null,
   "id": "6cb456e6-5712-4116-8eff-aea31b881988",
   "metadata": {},
   "outputs": [],
   "source": [
    "adelie_biscoe"
   ]
  },
  {
   "cell_type": "markdown",
   "id": "e70bab1f-6259-459b-a44c-84915f449817",
   "metadata": {},
   "source": [
    "<h1>It seems that Adelie Lives in all 3 Islands</h1>"
   ]
  },
  {
   "cell_type": "markdown",
   "id": "83752669-8c41-4828-84f3-dc395d534e1f",
   "metadata": {},
   "source": [
    "<h1>Does Chinstrap lives on island Biscoe</h1>"
   ]
  },
  {
   "cell_type": "code",
   "execution_count": null,
   "id": "f1b7fb0c-df3d-47a5-a9d2-de9e88fa1e23",
   "metadata": {},
   "outputs": [],
   "source": [
    "chinstrap_biscoe = birds[(birds['species'] == 'Chinstrap') & (birds['island'] == \"Biscoe\")]"
   ]
  },
  {
   "cell_type": "code",
   "execution_count": null,
   "id": "2797fd14-8f09-498a-9b95-21c468571f9a",
   "metadata": {},
   "outputs": [],
   "source": [
    "chinstrap_biscoe"
   ]
  },
  {
   "cell_type": "markdown",
   "id": "f5c3dba8-0ddd-439f-a57b-24378da4bdb9",
   "metadata": {},
   "source": [
    "<h1>Does Chinstrap lives on island Dream </h1>"
   ]
  },
  {
   "cell_type": "code",
   "execution_count": null,
   "id": "994f9ced-2e81-41da-bae5-2b4936b785b1",
   "metadata": {},
   "outputs": [],
   "source": [
    "chinstrap_dream = birds[(birds['species'] == 'Chinstrap') & (birds['island'] == \"Dream\")]"
   ]
  },
  {
   "cell_type": "code",
   "execution_count": null,
   "id": "4ee1af4c-e389-40c8-a448-67a6d779abc3",
   "metadata": {},
   "outputs": [],
   "source": [
    "chinstrap_dream"
   ]
  },
  {
   "cell_type": "markdown",
   "id": "20b2672a-bb81-4bfc-a0cc-0212996256d6",
   "metadata": {},
   "source": [
    "<h1>Does Chinstrap lives in island Torgersen </h1>"
   ]
  },
  {
   "cell_type": "code",
   "execution_count": null,
   "id": "83132e1d-a046-48d6-b5b1-e3e8dc00c5c3",
   "metadata": {},
   "outputs": [],
   "source": [
    "chinstrap_torgersen = birds[(birds['species'] == 'Chinstrap') & (birds['island'] == \"Torgersen\")]"
   ]
  },
  {
   "cell_type": "code",
   "execution_count": null,
   "id": "4fca5915-f802-4c08-8e72-eb2defb66672",
   "metadata": {},
   "outputs": [],
   "source": [
    "chinstrap_torgersen"
   ]
  },
  {
   "cell_type": "markdown",
   "id": "5992f6b3-8b5f-4f24-bc22-b5204756d525",
   "metadata": {},
   "source": [
    "<h1> It seems that Chinstrap only lives on Bicoe and Dream</h1>"
   ]
  }
 ],
 "metadata": {
  "kernelspec": {
   "display_name": "Python 3 (ipykernel)",
   "language": "python",
   "name": "python3"
  },
  "language_info": {
   "codemirror_mode": {
    "name": "ipython",
    "version": 3
   },
   "file_extension": ".py",
   "mimetype": "text/x-python",
   "name": "python",
   "nbconvert_exporter": "python",
   "pygments_lexer": "ipython3",
   "version": "3.13.1"
  }
 },
 "nbformat": 4,
 "nbformat_minor": 5
}
